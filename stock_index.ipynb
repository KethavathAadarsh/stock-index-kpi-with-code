{
  "nbformat": 4,
  "nbformat_minor": 0,
  "metadata": {
    "colab": {
      "name": "stock_index.ipynb",
      "provenance": [],
      "collapsed_sections": []
    },
    "kernelspec": {
      "name": "python3",
      "display_name": "Python 3"
    },
    "language_info": {
      "name": "python"
    }
  },
  "cells": [
    {
      "cell_type": "code",
      "execution_count": null,
      "metadata": {
        "id": "4gg8MHkByONl"
      },
      "outputs": [],
      "source": [
        "import pandas as pd\n",
        "import numpy as np\n",
        "import matplotlib.pyplot as plt\n",
        "%matplotlib inline\n",
        "from pandas.plotting import scatter_matrix"
      ]
    },
    {
      "cell_type": "code",
      "source": [
        "\n",
        "pf=pd.read_csv('/content/project file 2 - Sheet1 (5).csv')\n",
        "#pf = pf.replace(r'^\\s*$', np.nan, regex=True)\n",
        "pf.set_index(\"DATE\", inplace=True)\n",
        "#CAGR RATIOS\n",
        "print(pf.head())"
      ],
      "metadata": {
        "id": "AAWEU53Q0RXL"
      },
      "execution_count": null,
      "outputs": []
    },
    {
      "cell_type": "code",
      "source": [
        "\n",
        "\n",
        "p0=3480;p1=2721;p2=1589;p3=999\n",
        "inii=1000 \n",
        "t0=4;t1=3;t2=2;t3=1\n",
        "CAGR0=(((p0/inii)**(1/t0))-1)*100\n",
        "CAGR1=(((p1/inii)**(1/t1))-1)*100\n",
        "CAGR2=(((p2/inii)**(1/t2))-1)*100\n",
        "CAGR3=(((p3/inii)**(1/t3))-1)*100\n",
        "print('1.0 CUMULATIVE ANNUAL GROWTH RETURN FROM 2018 TO 2022 IS ',CAGR0,\"%\")\n",
        "print('1.1 CUMULATIVE ANNUAL GROWTH RETURN FROM 2018 TO 2021 IS ',CAGR1,\"%\")\n",
        "print('1.2 CUMULATIVE ANNUAL GROWTH RETURN FROM 2018 TO 202O IS ',CAGR2,\"%\")\n",
        "print('1.3 CUMULATIVE ANNUAL GROWTH RETURN FROM 2018 TO 2019 IS ',CAGR3,\"%\")"
      ],
      "metadata": {
        "id": "B5sgpGRXz84r"
      },
      "execution_count": null,
      "outputs": []
    },
    {
      "cell_type": "code",
      "source": [
        "\n",
        "#MAX DRAWDOWN\n",
        "pf['Peak'] = pf['IPRICE'].cummax()\n",
        "pf['Drawdown'] = (pf['Peak']-pf['IPRICE'])/pf['Peak']\n",
        "print(pf.tail())\n",
        "print('Maximum Drawdown in pf is ', pf['Drawdown'].max())"
      ],
      "metadata": {
        "id": "LoUHK4aC0Xo0"
      },
      "execution_count": null,
      "outputs": []
    },
    {
      "cell_type": "code",
      "source": [
        "\n",
        "#sharpe ratio\n",
        "pf['Return'] = np.log(pf['IPRICE']) - np.log(pf['IPRICE'].shift(1))\n",
        "dailyr = pf['Return'].dropna()\n",
        "print(dailyr.head())\n",
        "print('Daily Sharpe Ratio is ', dailyr.mean()/dailyr.std(ddof=1))\n",
        "print('Yearly Sharpe Ratio is ', (252**0.5)*dailyr.mean()/dailyr.std(ddof=1))"
      ],
      "metadata": {
        "id": "3Tkd8QUO0bYZ"
      },
      "execution_count": null,
      "outputs": []
    },
    {
      "cell_type": "code",
      "source": [
        "\n",
        "#profit margin\n",
        "initialinvestment=1000\n",
        "unit=1\n",
        "finalselloffvalue=3480\n",
        "profitmargin=( finalselloffvalue-initialinvestment)*100/initialinvestment\n",
        "print('profit margin for a time period of 4 yrs',profitmargin,'%')"
      ],
      "metadata": {
        "id": "SWMWQmSz0eE9"
      },
      "execution_count": null,
      "outputs": []
    },
    {
      "cell_type": "code",
      "source": [
        "\n",
        "!pip install yfinance\n",
        "# NASDAQ STATISTICAL ANALYTICS\n",
        "import yfinance as yf\n",
        "import plotly.graph_objs as go\n",
        "nasdaq=yf.download(tickers='^IXIC',start='2018-01-02',end='2021-12-30',interval='1d')"
      ],
      "metadata": {
        "id": "01Z9kNyo0gha"
      },
      "execution_count": null,
      "outputs": []
    },
    {
      "cell_type": "code",
      "source": [
        "\n",
        "#CAGR RATIOS\n",
        "k0=15766.22;k1=12888.280273437;k2=8972.60;k3=6635.28\n",
        "inii=7006.9\n",
        "investment=1000\n",
        "units=investment/7006.8999\n",
        "l0=4;l1=3;l2=2;l3=1\n",
        "CAGR0=(((k0/inii)**(1/l0))-1)*100\n",
        "CAGR1=(((k1/inii)**(1/l1))-1)*100\n",
        "CAGR2=(((k2/inii)**(1/l2))-1)*100\n",
        "CAGR3=(((k3/inii)**(1/l3))-1)*100\n",
        "print('1.0 CUMULATIVE ANNUAL GROWTH RETURN OF NASDAQ FROM 2018 TO 2022 IS ',CAGR0,\"%\")\n",
        "print('1.1 CUMULATIVE ANNUAL GROWTH RETURN OF NASDAQ FROM 2018 TO 2021 IS ',CAGR1,\"%\")\n",
        "print('1.2 CUMULATIVE ANNUAL GROWTH RETURN OF NASDAQ FROM 2018 TO 202O IS ',CAGR2,\"%\")\n",
        "print('1.3 CUMULATIVE ANNUAL GROWTH RETURN OF NASDAQ FROM 2018 TO 2019 IS ',CAGR3,\"%\")"
      ],
      "metadata": {
        "id": "RCLYOIDJ0jWT"
      },
      "execution_count": null,
      "outputs": []
    },
    {
      "cell_type": "code",
      "source": [
        "\n",
        "#MAX DRAWDOWN\n",
        "nasdaq['Peak']=nasdaq['Close'].cummax()\n",
        "nasdaq['Drawdown']=(nasdaq['Peak']-nasdaq['Close'])/nasdaq['Peak']\n",
        "print('maximum drawdown of nasdaq in 4 yrs is',nasdaq['Drawdown'].max())"
      ],
      "metadata": {
        "id": "YafnN2sR0lsn"
      },
      "execution_count": null,
      "outputs": []
    },
    {
      "cell_type": "code",
      "source": [
        "\n",
        "#profit margin2\n",
        "investment=1000\n",
        "units=investment/7006.8999\n",
        "sellvalue=15766.22*units\n",
        "profitmargin1=(sellvalue-investment)*100/investment\n",
        "print('profit margin for a time period of 4 yrs of nasdaq',profitmargin1,'%')"
      ],
      "metadata": {
        "id": "21TlFaKV0nS6"
      },
      "execution_count": null,
      "outputs": []
    },
    {
      "cell_type": "code",
      "source": [
        "\n",
        "#sharpe ratio\n",
        "nasdaq['Return'] = np.log(nasdaq['Close'])-np.log(nasdaq['Close'].shift(1))\n",
        "plt.figure(figsize=(10,10))\n",
        "plt.title('nasdaq return logarithmic')\n",
        "plt.plot(nasdaq['Return'],color='g',label='return log')\n",
        "plt.legend()\n",
        "plt.show()"
      ],
      "metadata": {
        "id": "WDjMaGyo0oy_"
      },
      "execution_count": null,
      "outputs": []
    },
    {
      "cell_type": "code",
      "source": [
        "\n",
        "sm=scatter_matrix(nasdaq,figsize=(10,10))\n",
        "sm1=scatter_matrix(pf,figsize=(10,10))\n",
        "dailyr = nasdaq['Return'].dropna()\n",
        "print(dailyr.head())\n",
        "print('Daily Sharpe Ratio of nasdaq is ', dailyr.mean()/dailyr.std(ddof=1))\n",
        "print('Yearly Sharpe Ratio of nasdaq is ', (252**0.5)*dailyr.mean()/dailyr.std(ddof=1))"
      ],
      "metadata": {
        "id": "QG7Vg9-00rhE"
      },
      "execution_count": null,
      "outputs": []
    },
    {
      "cell_type": "code",
      "source": [
        "\n",
        "nasdaq.tail()\n",
        "print(pf.describe())\n",
        "nasdaq.describe()"
      ],
      "metadata": {
        "id": "FmDM-MtU0vkp"
      },
      "execution_count": null,
      "outputs": []
    }
  ]
}